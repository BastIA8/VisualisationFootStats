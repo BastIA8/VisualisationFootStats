{
 "cells": [
  {
   "cell_type": "code",
   "execution_count": 1,
   "metadata": {},
   "outputs": [],
   "source": [
    "import requests\n",
    "import json\n",
    "import pandas as pd\n",
    "import matplotlib.pyplot as plt\n",
    "import seaborn as sns\n",
    "import plotly.express as px\n",
    "\n",
    "# Gestion des dates\n",
    "#from datetime import datetime  # Si tu veux gérer des données chronologiques"
   ]
  },
  {
   "cell_type": "code",
   "execution_count": 5,
   "metadata": {},
   "outputs": [
    {
     "name": "stdout",
     "output_type": "stream",
     "text": [
      "<class 'dict'>\n"
     ]
    }
   ],
   "source": [
    "uri = 'https://api.football-data.org/v4/matches'\n",
    "headers = { 'X-Auth-Token': 'f740b020bee549bca2f2b054310c8642' }\n",
    "\n",
    "response = requests.get(uri, headers=headers)\n",
    "for match in response.json()['matches']:\n",
    "  print(match)"
   ]
  },
  {
   "cell_type": "code",
   "execution_count": 9,
   "metadata": {},
   "outputs": [
    {
     "name": "stdout",
     "output_type": "stream",
     "text": [
      "{'area': {'id': 2072, 'name': 'England', 'code': 'ENG', 'flag': 'https://crests.football-data.org/770.svg'}, 'id': 64, 'name': 'Liverpool FC', 'shortName': 'Liverpool', 'tla': 'LIV', 'crest': 'https://crests.football-data.org/64.png', 'address': 'Anfield Road Liverpool L4 0TH', 'website': 'http://www.liverpoolfc.tv', 'founded': 1892, 'clubColors': 'Red / White', 'venue': 'Anfield', 'runningCompetitions': [{'id': 2021, 'name': 'Premier League', 'code': 'PL', 'type': 'LEAGUE', 'emblem': 'https://crests.football-data.org/PL.png'}, {'id': 2001, 'name': 'UEFA Champions League', 'code': 'CL', 'type': 'CUP', 'emblem': 'https://crests.football-data.org/CL.png'}], 'coach': {'id': 121014, 'firstName': 'Arne', 'lastName': 'Slot', 'name': 'Arne Slot', 'dateOfBirth': '1978-09-17', 'nationality': 'Netherlands', 'contract': {'start': '2024-06', 'until': '2027-06'}}, 'squad': [{'id': 1795, 'name': 'Alisson', 'position': 'Goalkeeper', 'dateOfBirth': '1992-10-02', 'nationality': 'Brazil'}, {'id': 102046, 'name': 'Caoimhin Kelleher', 'position': 'Goalkeeper', 'dateOfBirth': '1998-11-23', 'nationality': 'Ireland'}, {'id': 152579, 'name': 'Vítězslav Jaroš', 'position': 'Goalkeeper', 'dateOfBirth': '2001-07-23', 'nationality': 'Czech Republic'}, {'id': 175845, 'name': 'Tyler Morton', 'position': 'Midfield', 'dateOfBirth': '2002-10-31', 'nationality': 'England'}, {'id': 230517, 'name': 'Trey Nyoni', 'position': 'Attacking Midfield', 'dateOfBirth': '2007-06-30', 'nationality': 'England'}, {'id': 176718, 'name': 'Jarell Quansah', 'position': 'Centre-Back', 'dateOfBirth': '2003-01-29', 'nationality': 'England'}, {'id': 175865, 'name': 'Conor Bradley', 'position': 'Right-Back', 'dateOfBirth': '2003-07-09', 'nationality': 'Northern Ireland'}, {'id': 124824, 'name': 'Harvey Elliott', 'position': 'Central Midfield', 'dateOfBirth': '2003-04-04', 'nationality': 'England'}, {'id': 81793, 'name': 'Ryan Gravenberch', 'position': 'Central Midfield', 'dateOfBirth': '2002-05-16', 'nationality': 'Netherlands'}, {'id': 45681, 'name': 'Alexis Mac Allister', 'position': 'Central Midfield', 'dateOfBirth': '1998-12-24', 'nationality': 'Argentina'}, {'id': 28612, 'name': 'Darwin Núñez', 'position': 'Centre-Forward', 'dateOfBirth': '1999-06-24', 'nationality': 'Uruguay'}, {'id': 22396, 'name': 'Luis Díaz', 'position': 'Left Winger', 'dateOfBirth': '1997-01-13', 'nationality': 'Colombia'}, {'id': 16347, 'name': 'Dominik Szoboszlai', 'position': 'Central Midfield', 'dateOfBirth': '2000-10-25', 'nationality': 'Hungary'}, {'id': 9542, 'name': 'Ibrahima Konaté', 'position': 'Centre-Back', 'dateOfBirth': '1999-05-25', 'nationality': 'France'}, {'id': 7873, 'name': 'Curtis Jones', 'position': 'Central Midfield', 'dateOfBirth': '2001-01-30', 'nationality': 'England'}, {'id': 7869, 'name': 'Virgil van Dijk', 'position': 'Centre-Back', 'dateOfBirth': '1991-07-08', 'nationality': 'Netherlands'}, {'id': 7868, 'name': 'Andrew Robertson', 'position': 'Left-Back', 'dateOfBirth': '1994-03-11', 'nationality': 'Scotland'}, {'id': 7867, 'name': 'Trent Alexander-Arnold', 'position': 'Right-Back', 'dateOfBirth': '1998-10-07', 'nationality': 'England'}, {'id': 7862, 'name': 'Joe Gomez', 'position': 'Centre-Back', 'dateOfBirth': '1997-05-23', 'nationality': 'England'}, {'id': 7459, 'name': 'Cody Gakpo', 'position': 'Left Winger', 'dateOfBirth': '1999-05-07', 'nationality': 'Netherlands'}, {'id': 7383, 'name': 'Kostas Tsimikas', 'position': 'Left-Back', 'dateOfBirth': '1996-05-12', 'nationality': 'Greece'}, {'id': 4092, 'name': 'Diogo Jota', 'position': 'Centre-Forward', 'dateOfBirth': '1996-12-04', 'nationality': 'Portugal'}, {'id': 3754, 'name': 'Mohamed Salah', 'position': 'Right Winger', 'dateOfBirth': '1992-06-15', 'nationality': 'Egypt'}, {'id': 3269, 'name': 'Wataru Endō', 'position': 'Defensive Midfield', 'dateOfBirth': '1993-02-09', 'nationality': 'Japan'}, {'id': 1780, 'name': 'Federico Chiesa', 'position': 'Left Winger', 'dateOfBirth': '1997-10-25', 'nationality': 'Italy'}], 'staff': [], 'lastUpdated': '2022-02-10T19:30:22Z'}\n",
      "                      name            position       nationality\n",
      "0                  Alisson          Goalkeeper            Brazil\n",
      "1        Caoimhin Kelleher          Goalkeeper           Ireland\n",
      "2          Vítězslav Jaroš          Goalkeeper    Czech Republic\n",
      "3             Tyler Morton            Midfield           England\n",
      "4               Trey Nyoni  Attacking Midfield           England\n",
      "5           Jarell Quansah         Centre-Back           England\n",
      "6            Conor Bradley          Right-Back  Northern Ireland\n",
      "7           Harvey Elliott    Central Midfield           England\n",
      "8         Ryan Gravenberch    Central Midfield       Netherlands\n",
      "9      Alexis Mac Allister    Central Midfield         Argentina\n",
      "10            Darwin Núñez      Centre-Forward           Uruguay\n",
      "11               Luis Díaz         Left Winger          Colombia\n",
      "12      Dominik Szoboszlai    Central Midfield           Hungary\n",
      "13         Ibrahima Konaté         Centre-Back            France\n",
      "14            Curtis Jones    Central Midfield           England\n",
      "15         Virgil van Dijk         Centre-Back       Netherlands\n",
      "16        Andrew Robertson           Left-Back          Scotland\n",
      "17  Trent Alexander-Arnold          Right-Back           England\n",
      "18               Joe Gomez         Centre-Back           England\n",
      "19              Cody Gakpo         Left Winger       Netherlands\n",
      "20         Kostas Tsimikas           Left-Back            Greece\n",
      "21              Diogo Jota      Centre-Forward          Portugal\n",
      "22           Mohamed Salah        Right Winger             Egypt\n",
      "23             Wataru Endō  Defensive Midfield             Japan\n",
      "24         Federico Chiesa         Left Winger             Italy\n"
     ]
    }
   ],
   "source": [
    "BASE_URL = 'https://api.football-data.org/v4/'\n",
    "\n",
    "# Fonction pour récupérer les données des joueurs d'une équipe\n",
    "def get_team_players(team_id):\n",
    "    url = f\"{BASE_URL}teams/{team_id}/\"\n",
    "    # Faire la requête GET\n",
    "    response = requests.get(url, headers=headers)\n",
    "    \n",
    "    # Vérifier si la requête est réussie\n",
    "    if response.status_code == 200:\n",
    "        data = response.json()\n",
    "        print(data)\n",
    "        players = data['squad']  # La liste des joueurs de l'équipe\n",
    "        return players\n",
    "    else:\n",
    "        print(f\"Erreur {response.status_code} : {response.text}\")\n",
    "        return None\n",
    "\n",
    "# Exemple d'utilisation : récupérer les joueurs d'une équipe\n",
    "team_id = 64  # Exemple : Liverpool FC\n",
    "players_data = get_team_players(team_id)\n",
    "\n",
    "# Convertir les données des joueurs en DataFrame pour plus de facilité\n",
    "\n",
    "if players_data:\n",
    "    players_df = pd.DataFrame(players_data)\n",
    "    print(players_df[['name', 'position', 'nationality']])"
   ]
  }
 ],
 "metadata": {
  "kernelspec": {
   "display_name": "FootStats",
   "language": "python",
   "name": "python3"
  },
  "language_info": {
   "codemirror_mode": {
    "name": "ipython",
    "version": 3
   },
   "file_extension": ".py",
   "mimetype": "text/x-python",
   "name": "python",
   "nbconvert_exporter": "python",
   "pygments_lexer": "ipython3",
   "version": "3.11.9"
  }
 },
 "nbformat": 4,
 "nbformat_minor": 2
}
