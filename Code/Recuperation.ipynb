{
 "cells": [
  {
   "cell_type": "code",
   "execution_count": 1,
   "metadata": {},
   "outputs": [],
   "source": [
    "import requests\n",
    "import json\n",
    "import pandas as pd\n",
    "import matplotlib.pyplot as plt\n",
    "import seaborn as sns\n",
    "import plotly.express as px\n",
    "\n",
    "# Gestion des dates\n",
    "#from datetime import datetime  # Si tu veux gérer des données chronologiques"
   ]
  },
  {
   "cell_type": "code",
   "execution_count": 5,
   "metadata": {},
   "outputs": [
    {
     "name": "stdout",
     "output_type": "stream",
     "text": [
      "<class 'dict'>\n"
     ]
    }
   ],
   "source": [
    "uri = 'https://api.football-data.org/v4/matches'\n",
    "headers = { 'X-Auth-Token': 'f740b020bee549bca2f2b054310c8642' }\n",
    "\n",
    "response = requests.get(uri, headers=headers)\n",
    "for match in response.json()['matches']:\n",
    "  print(match)"
   ]
  }
 ],
 "metadata": {
  "kernelspec": {
   "display_name": "FootStats",
   "language": "python",
   "name": "python3"
  },
  "language_info": {
   "codemirror_mode": {
    "name": "ipython",
    "version": 3
   },
   "file_extension": ".py",
   "mimetype": "text/x-python",
   "name": "python",
   "nbconvert_exporter": "python",
   "pygments_lexer": "ipython3",
   "version": "3.11.9"
  }
 },
 "nbformat": 4,
 "nbformat_minor": 2
}
